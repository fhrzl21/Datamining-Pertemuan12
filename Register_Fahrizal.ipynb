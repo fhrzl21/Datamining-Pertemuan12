{
  "nbformat": 4,
  "nbformat_minor": 0,
  "metadata": {
    "colab": {
      "name": "Register_Fahrizal.ipynb",
      "provenance": [],
      "collapsed_sections": []
    },
    "kernelspec": {
      "name": "python3",
      "display_name": "Python 3"
    },
    "language_info": {
      "name": "python"
    }
  },
  "cells": [
    {
      "cell_type": "code",
      "metadata": {
        "id": "j2jPobRcli-q"
      },
      "source": [
        "import numpy as np\n",
        "import pandas as pd\n",
        "import matplotlib.pyplot as plt\n",
        "import sklearn"
      ],
      "execution_count": null,
      "outputs": []
    },
    {
      "cell_type": "code",
      "metadata": {
        "id": "TCItF0nCl9MS"
      },
      "source": [
        "# manggil dataset\n",
        "dataset = pd.read_excel('regresi.xlsx')\n",
        "x = dataset.iloc[:, :-1].values\n",
        "y = dataset.iloc[:, 1].values"
      ],
      "execution_count": null,
      "outputs": []
    },
    {
      "cell_type": "code",
      "metadata": {
        "colab": {
          "base_uri": "https://localhost:8080/"
        },
        "id": "E661KBQ4n-At",
        "outputId": "eb542529-de2f-45e8-f669-d178599cdd1c"
      },
      "source": [
        "dataset.keys()"
      ],
      "execution_count": null,
      "outputs": [
        {
          "output_type": "execute_result",
          "data": {
            "text/plain": [
              "Index(['UsiaMobil', 'HargaMobil'], dtype='object')"
            ]
          },
          "metadata": {
            "tags": []
          },
          "execution_count": 14
        }
      ]
    },
    {
      "cell_type": "code",
      "metadata": {
        "colab": {
          "base_uri": "https://localhost:8080/"
        },
        "id": "ixmXHeSnoBSm",
        "outputId": "27d56d6c-fd1f-46f3-9a0c-2738ba2c0a24"
      },
      "source": [
        "dataset.shape"
      ],
      "execution_count": null,
      "outputs": [
        {
          "output_type": "execute_result",
          "data": {
            "text/plain": [
              "(11, 2)"
            ]
          },
          "metadata": {
            "tags": []
          },
          "execution_count": 15
        }
      ]
    },
    {
      "cell_type": "code",
      "metadata": {
        "colab": {
          "base_uri": "https://localhost:8080/",
          "height": 204
        },
        "id": "sbyz4XnhoDkq",
        "outputId": "ae8d9eca-1d04-4b8e-a24a-6f55085fe847"
      },
      "source": [
        "#menampilkan isi sebagian dataset\n",
        "dataku = pd.DataFrame(dataset)\n",
        "dataku.head()"
      ],
      "execution_count": null,
      "outputs": [
        {
          "output_type": "execute_result",
          "data": {
            "text/html": [
              "<div>\n",
              "<style scoped>\n",
              "    .dataframe tbody tr th:only-of-type {\n",
              "        vertical-align: middle;\n",
              "    }\n",
              "\n",
              "    .dataframe tbody tr th {\n",
              "        vertical-align: top;\n",
              "    }\n",
              "\n",
              "    .dataframe thead th {\n",
              "        text-align: right;\n",
              "    }\n",
              "</style>\n",
              "<table border=\"1\" class=\"dataframe\">\n",
              "  <thead>\n",
              "    <tr style=\"text-align: right;\">\n",
              "      <th></th>\n",
              "      <th>UsiaMobil</th>\n",
              "      <th>HargaMobil</th>\n",
              "    </tr>\n",
              "  </thead>\n",
              "  <tbody>\n",
              "    <tr>\n",
              "      <th>0</th>\n",
              "      <td>5</td>\n",
              "      <td>85</td>\n",
              "    </tr>\n",
              "    <tr>\n",
              "      <th>1</th>\n",
              "      <td>4</td>\n",
              "      <td>103</td>\n",
              "    </tr>\n",
              "    <tr>\n",
              "      <th>2</th>\n",
              "      <td>6</td>\n",
              "      <td>70</td>\n",
              "    </tr>\n",
              "    <tr>\n",
              "      <th>3</th>\n",
              "      <td>5</td>\n",
              "      <td>82</td>\n",
              "    </tr>\n",
              "    <tr>\n",
              "      <th>4</th>\n",
              "      <td>5</td>\n",
              "      <td>89</td>\n",
              "    </tr>\n",
              "  </tbody>\n",
              "</table>\n",
              "</div>"
            ],
            "text/plain": [
              "   UsiaMobil  HargaMobil\n",
              "0          5          85\n",
              "1          4         103\n",
              "2          6          70\n",
              "3          5          82\n",
              "4          5          89"
            ]
          },
          "metadata": {
            "tags": []
          },
          "execution_count": 16
        }
      ]
    },
    {
      "cell_type": "code",
      "metadata": {
        "id": "ViF6uRjYoNHF"
      },
      "source": [
        "#split dataset menjadi training set dan testing set\n",
        "from sklearn.model_selection import train_test_split\n",
        "x_train, x_test, y_train, y_test = train_test_split(x, y, test_size = 0.2, random_state=0)"
      ],
      "execution_count": null,
      "outputs": []
    },
    {
      "cell_type": "code",
      "metadata": {
        "colab": {
          "base_uri": "https://localhost:8080/"
        },
        "id": "qsuDPVMVovdH",
        "outputId": "ba408e27-d055-42f4-a760-d4c26c660e64"
      },
      "source": [
        "#melakukan fitting simpel linear regresion pada training set\n",
        "from sklearn.linear_model import LinearRegression\n",
        "regressor = LinearRegression()\n",
        "regressor.fit(x_train, y_train)"
      ],
      "execution_count": null,
      "outputs": [
        {
          "output_type": "execute_result",
          "data": {
            "text/plain": [
              "LinearRegression(copy_X=True, fit_intercept=True, n_jobs=None, normalize=False)"
            ]
          },
          "metadata": {
            "tags": []
          },
          "execution_count": 18
        }
      ]
    },
    {
      "cell_type": "code",
      "metadata": {
        "id": "Jv3rs88xpDDI"
      },
      "source": [
        "#mempredikdi hasil tes set\n",
        "y_pred = regressor.predict(x_test)"
      ],
      "execution_count": null,
      "outputs": []
    },
    {
      "cell_type": "code",
      "metadata": {
        "colab": {
          "base_uri": "https://localhost:8080/",
          "height": 312
        },
        "id": "VdeDdoVcpKcz",
        "outputId": "e3ddf677-fb57-451b-bfa1-7cc8ccb65f10"
      },
      "source": [
        "#visualisasi data\n",
        "plt.scatter(dataku.UsiaMobil, dataku.HargaMobil)\n",
        "plt.xlabel(\"Usia Mobil\")\n",
        "plt.ylabel(\"Harga Mobil\")\n",
        "plt.title(\"Grafik Usia Mobil vs Harga Mobil\")\n",
        "plt.show"
      ],
      "execution_count": null,
      "outputs": [
        {
          "output_type": "execute_result",
          "data": {
            "text/plain": [
              "<function matplotlib.pyplot.show>"
            ]
          },
          "metadata": {
            "tags": []
          },
          "execution_count": 20
        },
        {
          "output_type": "display_data",
          "data": {
            "image/png": "[encoded data removed]",
            "text/plain": [
              "<Figure size 432x288 with 1 Axes>"
            ]
          },
          "metadata": {
            "tags": [],
            "needs_background": "light"
          }
        }
      ]
    },
    {
      "cell_type": "code",
      "metadata": {
        "colab": {
          "base_uri": "https://localhost:8080/",
          "height": 513
        },
        "id": "Crhfz_eVpu6b",
        "outputId": "bfd39514-b7e2-468f-dd91-732d2dd530c8"
      },
      "source": [
        "#visualisasi hasil prediksi pada training set\n",
        "plt.figure(figsize=(10,8))\n",
        "\n",
        "#biru = data observasi\n",
        "plt.scatter(x_train, y_train, color = 'blue')\n",
        "\n",
        "#garis merah = hasil  prediksi dari mesin learning\n",
        "plt.plot(x_train, regressor.predict(x_train), color = 'red')\n",
        "\n",
        "#memberi judul dan label\n",
        "plt.title('Usia Mobil terhadap Harga Mobil (Training Set)')\n",
        "plt.xlabel('Usia Mobil')\n",
        "plt.ylabel('Harga Mobil')\n",
        "\n",
        "plt.show()"
      ],
      "execution_count": null,
      "outputs": [
        {
          "output_type": "display_data",
          "data": {
            "image/png": "[encoded data removed]",
            "text/plain": [
              "<Figure size 720x576 with 1 Axes>"
            ]
          },
          "metadata": {
            "tags": [],
            "needs_background": "light"
          }
        }
      ]
    },
    {
      "cell_type": "code",
      "metadata": {
        "colab": {
          "base_uri": "https://localhost:8080/",
          "height": 513
        },
        "id": "5JNrZWnCqrAp",
        "outputId": "86f34fc0-15a7-4a47-e683-421553edd4d6"
      },
      "source": [
        "#visualisasi hasil prediksi pada test set\n",
        "plt.figure(figsize=(10,8))\n",
        "\n",
        "#biru = data observasi\n",
        "plt.scatter(x_test, y_test, color = 'blue')\n",
        "\n",
        "#garis merah = hasil  prediksi dari mesin learning\n",
        "plt.plot(x_test, regressor.predict(x_test), color = 'red')\n",
        "\n",
        "#memberi judul dan label\n",
        "plt.title('Usia Mobil terhadap Harga Mobil (Training Set)')\n",
        "plt.xlabel('Usia Mobil')\n",
        "plt.ylabel('Harga Mobil')\n",
        "\n",
        "plt.show()"
      ],
      "execution_count": null,
      "outputs": [
        {
          "output_type": "display_data",
          "data": {
            "image/png": "[encoded data removed]",
            "text/plain": [
              "<Figure size 720x576 with 1 Axes>"
            ]
          },
          "metadata": {
            "tags": [],
            "needs_background": "light"
          }
        }
      ]
    }
  ]
}